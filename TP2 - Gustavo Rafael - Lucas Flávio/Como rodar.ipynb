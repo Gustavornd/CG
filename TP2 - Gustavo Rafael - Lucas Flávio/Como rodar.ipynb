{
 "cells": [
  {
   "cell_type": "markdown",
   "metadata": {},
   "source": [
    "\n",
    "<style>\n",
    "    contato{fontsize=10}\n",
    "</style>\n",
    "\n",
    "<h3><strong>Trabalho Prático 2 - Computação Gráfica</strong></h3>\n",
    "<h4><strong>Autores:</strong>\n",
    "    <ul>\n",
    "        <li>Gustavo Rafael Nunes Durães</li>\n",
    "                <contato>Email: grnd@aluno.ifnmg.edu.br     Telefone: (38) 99737-7689</contato>\n",
    "                <p></p>\n",
    "        <li>Lucas Flávio Gabrich Marinho</li>\n",
    "                <contato>Email: lfgm@aluno.ifnmg.edu.br     Telefone: (38) 99941-8775</contato>\n",
    "    </ul>\n",
    "</h4>\n",
    "\n",
    "\n",
    "<ol><strong>Instruções de Execução:</strong>\n",
    "    <li>Garanta que as devidas bibliotecas estão intaladas. Para isso, basta rodar a célular abaixo, ela vai automaticamente instalar as bibliotecas necessárias.</li>\n",
    "    <li>O arquivo \"entrada.xml\" deve estar na mesma pasta</li>\n",
    "    <li>Execute todas as celulas (Run all) ou execute-as em sequência.</li>\n",
    "    <li>A última celula iniciará o script que funciona de forma automática.</li>\n",
    "    <li>A janela mostrando os objetos será aberta.</li>\n",
    "    <li>O Arquivo \"saida.xml\" com os resultados das transformações será salvo na mesma pasta do script.</li>\n",
    "    <li>Para encerrar a execução, basta fechar a janela que foi aberta.</li>\n",
    "</ol>\n"
   ]
  },
  {
   "cell_type": "code",
   "execution_count": null,
   "metadata": {},
   "outputs": [],
   "source": [
    "pip install -r dependencias.txt"
   ]
  },
  {
   "cell_type": "markdown",
   "metadata": {},
   "source": [
    "<p>Para iniciar a aplicação, execute a celula abaixo.</p>\n",
    "<p><strong>OBS:</strong> Caso deseje executar novamente é possivel que o Kernel Python pare, não uma encontramos uma solução para isso, mas basta reiniciar o Kernel Python que o script deve executar sem problemas.</p>"
   ]
  },
  {
   "cell_type": "code",
   "execution_count": 1,
   "metadata": {},
   "outputs": [
    {
     "name": "stdout",
     "output_type": "stream",
     "text": [
      "Área da ViewPort:  0 0 620 460\n",
      "Exibindo 0 objetos...\n",
      "Open XML File... OK!\n",
      "Área da ViewPort:  0 0 620.0 460.0\n",
      "Exibindo 6 objetos...\n",
      "Poligono: [[1. 1. 1.] [1. 2. 1.] [2. 2. 1.] [2. 1. 1.] ]\n",
      "Ponto: [0. 2. 1.].\n",
      "Ponto: [2. 4. 1.].\n",
      "Ponto: [4. 6. 1.].\n",
      "Reta: [2. 2. 1.] - [4. 4. 1.].\n",
      "Reta: [4. 4. 1.] - [2. 6. 1.].\n"
     ]
    }
   ],
   "source": [
    "#Comando para iniciar o software.\n",
    "#Caso deseje executar novamente, apenas execute a celula que o software será aberto.\n",
    "\n",
    "\n",
    "%run main.py"
   ]
  },
  {
   "cell_type": "markdown",
   "metadata": {},
   "source": [
    "<h3><strong>Tutorial de uso da Aplicação</strong></h3>\n",
    "\n",
    "<h4><strong>Abrir e Salvar Arquivos XML</strong></h4>\n",
    "Na pasta, você encontrará um arquivo \"entrada.xml\" que define os objetos a serem exibidos na aplicação, nesse caso, sendo os mesmos do trabalho anterior. Esses arquivos podem ser abertos, editados e salvos através da opção File no menu da aplicação.\n",
    "\n",
    "<h4><strong>Visualização e Manipulação de Objetos</strong></h4>\n",
    "Com um arquivo XML válido aberto, você poderá visualizar os objetos definidos diretamente na interface. Caso nenhum arquivo XML esteja aberto, é possível criar novos objetos e salvá-los em formato XML.\n",
    "<ul><strong>Interface Principal</strong>\n",
    "    <li><strong>Painel Superior Esquerdo:</strong> Exibe a lista de objetos presentes no projeto.</li>\n",
    "    <li><strong>Painel Superior Direito:</strong> Contém a janela de visualização, onde a viewport é exibida com os objetos carregados.</li>\n",
    "    <li><strong>Painel Inferior Esquerdo:</strong> Oferece controles para movimentação da janela e manipulação dos objetos presentes na viewport.</li>\n",
    "    <li><strong>Painel Inferior Direito:</strong> Contém ferramentas para criação, edição e movimentação individual de objetos.</li>\n",
    "</ul>\n",
    "\n",
    "<ul><strong>Funções e Ações</strong>\n",
    "    <li><strong>Exclusão de Objetos e Pontos:</strong> Para remover um objeto da lista ou excluir pontos de um objeto selecionado, basta um duplo clique. Objetos simples como pontos e retas não podem ter seus pontos removidos. No caso dos polígonos, é possível excluir pontos, desde que o polígono mantenha um mínimo de três pontos.</li>\n",
    "    <li><strong>Adicionar Pontos:</strong>  O botão \"Add Point\" permite a adição de novos pontos à lista de pontos de um objeto. Se um objeto existente estiver selecionado, o novo ponto será incluído na lista deste objeto, mas a alteração só será efetivada ao clicar em \"Update Object\". Se nenhum objeto estiver selecionado, ao clicar em \"Create Object\", um novo objeto será criado com base nos pontos listados e exibido na viewport.</li>\n",
    "    <li><strong>Desselecionar Objeto:</strong> Para liberar a seleção de um objeto atual, clique em \"Leave Object\". Isso permitirá que o painel de objetos fique disponível para o controle de outro objeto ou para iniciar a criação de um novo.</li>\n",
    "    <li><strong>Atualizar Coordenadas de Pontos:</strong> Para modificar as coordenadas de um ponto pertencente a um objeto selecionado, clique no ponto desejado e altere os valores de X e Y. Em seguida, clique em \"Update Point\" e, para tornar as alterações permanentes, finalize com \"Update Object\"</li>\n",
    "</ul>"
   ]
  }
 ],
 "metadata": {
  "kernelspec": {
   "display_name": "Python 3",
   "language": "python",
   "name": "python3"
  },
  "language_info": {
   "codemirror_mode": {
    "name": "ipython",
    "version": 3
   },
   "file_extension": ".py",
   "mimetype": "text/x-python",
   "name": "python",
   "nbconvert_exporter": "python",
   "pygments_lexer": "ipython3",
   "version": "3.11.3"
  }
 },
 "nbformat": 4,
 "nbformat_minor": 2
}
